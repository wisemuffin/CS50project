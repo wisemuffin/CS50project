{
 "cells": [
  {
   "cell_type": "markdown",
   "metadata": {},
   "source": [
    "# Hospital Accident and Emergency Activity, 2016-17\n",
    "Publication date: 09:30 October 17, 2017\n",
    "\n",
    "https://digital.nhs.uk/catalogue/PUB30112\n",
    "\n",
    "This is a publication on Accident and Emergency (A&E) activity in English NHS hospitals and English NHS-commissioned activity in the independent sector."
   ]
  },
  {
   "cell_type": "markdown",
   "metadata": {},
   "source": [
    "## Problem:\n",
    "The reporting from the NHS digital team is in depth but these publications doesnt seem to be interactive and dont allow the general public to explore the data.\n",
    "\n",
    "Aim to add the following functionality by using several libraries in Python:\n",
    "* Interactive charting with the use of plotly\n",
    "* Filters to slice and dice the data\n",
    "* Autocomplete for text filters\n"
   ]
  },
  {
   "cell_type": "markdown",
   "metadata": {},
   "source": [
    "# Setting Up"
   ]
  },
  {
   "cell_type": "code",
   "execution_count": 88,
   "metadata": {},
   "outputs": [],
   "source": [
    "import pandas as pd\n",
    "\n",
    "import pd_datareader_nhs.nhs_digital_ods as ods"
   ]
  },
  {
   "cell_type": "code",
   "execution_count": 90,
   "metadata": {},
   "outputs": [
    {
     "data": {
      "text/html": [
       "<div>\n",
       "<style scoped>\n",
       "    .dataframe tbody tr th:only-of-type {\n",
       "        vertical-align: middle;\n",
       "    }\n",
       "\n",
       "    .dataframe tbody tr th {\n",
       "        vertical-align: top;\n",
       "    }\n",
       "\n",
       "    .dataframe thead th {\n",
       "        text-align: right;\n",
       "    }\n",
       "</style>\n",
       "<table border=\"1\" class=\"dataframe\">\n",
       "  <thead>\n",
       "    <tr style=\"text-align: right;\">\n",
       "      <th></th>\n",
       "      <th>code</th>\n",
       "      <th>provider_desc</th>\n",
       "      <th>male</th>\n",
       "      <th>female</th>\n",
       "      <th>unkown</th>\n",
       "      <th>total</th>\n",
       "      <th>date</th>\n",
       "    </tr>\n",
       "  </thead>\n",
       "  <tbody>\n",
       "    <tr>\n",
       "      <th>0</th>\n",
       "      <td>All</td>\n",
       "      <td>ENGLAND</td>\n",
       "      <td>10210937</td>\n",
       "      <td>10462262</td>\n",
       "      <td>213212</td>\n",
       "      <td>20886411</td>\n",
       "      <td>2008-09</td>\n",
       "    </tr>\n",
       "    <tr>\n",
       "      <th>2</th>\n",
       "      <td>Y54</td>\n",
       "      <td>North Of England</td>\n",
       "      <td>3152003</td>\n",
       "      <td>3272078</td>\n",
       "      <td>150690</td>\n",
       "      <td>6574771</td>\n",
       "      <td>2008-09</td>\n",
       "    </tr>\n",
       "    <tr>\n",
       "      <th>3</th>\n",
       "      <td>Y55</td>\n",
       "      <td>Midlands And East Of England</td>\n",
       "      <td>2697939</td>\n",
       "      <td>2734073</td>\n",
       "      <td>2425</td>\n",
       "      <td>5434437</td>\n",
       "      <td>2008-09</td>\n",
       "    </tr>\n",
       "    <tr>\n",
       "      <th>4</th>\n",
       "      <td>Y56</td>\n",
       "      <td>London</td>\n",
       "      <td>1947476</td>\n",
       "      <td>2038738</td>\n",
       "      <td>58020</td>\n",
       "      <td>4044234</td>\n",
       "      <td>2008-09</td>\n",
       "    </tr>\n",
       "    <tr>\n",
       "      <th>5</th>\n",
       "      <td>Y57</td>\n",
       "      <td>South Of England</td>\n",
       "      <td>2413519</td>\n",
       "      <td>2417373</td>\n",
       "      <td>2077</td>\n",
       "      <td>4832969</td>\n",
       "      <td>2008-09</td>\n",
       "    </tr>\n",
       "  </tbody>\n",
       "</table>\n",
       "</div>"
      ],
      "text/plain": [
       "  code                 provider_desc      male    female  unkown     total  \\\n",
       "0  All                       ENGLAND  10210937  10462262  213212  20886411   \n",
       "2  Y54              North Of England   3152003   3272078  150690   6574771   \n",
       "3  Y55  Midlands And East Of England   2697939   2734073    2425   5434437   \n",
       "4  Y56                        London   1947476   2038738   58020   4044234   \n",
       "5  Y57              South Of England   2413519   2417373    2077   4832969   \n",
       "\n",
       "      date  \n",
       "0  2008-09  \n",
       "2  2008-09  \n",
       "3  2008-09  \n",
       "4  2008-09  \n",
       "5  2008-09  "
      ]
     },
     "execution_count": 90,
     "metadata": {},
     "output_type": "execute_result"
    }
   ],
   "source": [
    "url = 'https://digital.nhs.uk/media/33253/Hospital-Accident-and-Emergency-Activity-2008-09-Provider-Level-Analysis/default/acci-emer-atte-eng-2008-09-pla'\n",
    "AE_by_gender = pd.read_excel(url, sheet_name='Table_1', skiprows=5, header=1, names=(\"code\", \"provider_desc\", \"male\", \"female\", \"unkown\", \"total\"))\n",
    "\n",
    "# Clean up data by removing NaN\n",
    "AE_by_gender = AE_by_gender[~AE_by_gender[\"code\"].isna()]\n",
    "AE_by_gender[\"date\"] = '2008-09' # date range based on NHS fincial year ending on the 31 March each year.\n",
    "AE_by_gender.head()\n"
   ]
  },
  {
   "cell_type": "code",
   "execution_count": null,
   "metadata": {},
   "outputs": [],
   "source": [
    "url = 'https://digital.nhs.uk/media/33253/Hospital-Accident-and-Emergency-Activity-2016-17-Provider-Level-Analysis/default/acci-emer-atte-eng-2008-09-pla'\n",
    "AE_by_gender = pd.read_excel(url, sheet_name='Table_1', skiprows=5, header=1, names=(\"code\", \"provider_desc\", \"male\", \"female\", \"unkown\", \"total\"))\n",
    "\n",
    "# Clean up data by removing NaN\n",
    "AE_by_gender = AE_by_gender[~AE_by_gender[\"code\"].isna()]\n",
    "AE_by_gender[\"date\"] = '2008-09' # date range based on NHS fincial year ending on the 31 March each year.\n",
    "AE_by_gender.head()"
   ]
  },
  {
   "cell_type": "code",
   "execution_count": null,
   "metadata": {},
   "outputs": [],
   "source": []
  },
  {
   "cell_type": "markdown",
   "metadata": {},
   "source": [
    "## Transform data"
   ]
  },
  {
   "cell_type": "markdown",
   "metadata": {},
   "source": [
    "Set level of detail between hospitals region and total."
   ]
  },
  {
   "cell_type": "code",
   "execution_count": 83,
   "metadata": {},
   "outputs": [
    {
     "data": {
      "text/html": [
       "<div>\n",
       "<style scoped>\n",
       "    .dataframe tbody tr th:only-of-type {\n",
       "        vertical-align: middle;\n",
       "    }\n",
       "\n",
       "    .dataframe tbody tr th {\n",
       "        vertical-align: top;\n",
       "    }\n",
       "\n",
       "    .dataframe thead th {\n",
       "        text-align: right;\n",
       "    }\n",
       "</style>\n",
       "<table border=\"1\" class=\"dataframe\">\n",
       "  <thead>\n",
       "    <tr style=\"text-align: right;\">\n",
       "      <th></th>\n",
       "      <th>code</th>\n",
       "      <th>provider_desc</th>\n",
       "      <th>male</th>\n",
       "      <th>female</th>\n",
       "      <th>unkown</th>\n",
       "      <th>total</th>\n",
       "    </tr>\n",
       "  </thead>\n",
       "  <tbody>\n",
       "    <tr>\n",
       "      <th>7</th>\n",
       "      <td>REM</td>\n",
       "      <td>Aintree University Hospital NHS Foundation Trust</td>\n",
       "      <td>75516</td>\n",
       "      <td>88374</td>\n",
       "      <td>7</td>\n",
       "      <td>163897</td>\n",
       "    </tr>\n",
       "    <tr>\n",
       "      <th>8</th>\n",
       "      <td>RCF</td>\n",
       "      <td>Airedale NHS Foundation Trust</td>\n",
       "      <td>27921</td>\n",
       "      <td>28899</td>\n",
       "      <td>39</td>\n",
       "      <td>56859</td>\n",
       "    </tr>\n",
       "    <tr>\n",
       "      <th>9</th>\n",
       "      <td>RBS</td>\n",
       "      <td>Alder Hey Children's NHS Foundation Trust</td>\n",
       "      <td>31764</td>\n",
       "      <td>26486</td>\n",
       "      <td>1</td>\n",
       "      <td>58251</td>\n",
       "    </tr>\n",
       "    <tr>\n",
       "      <th>10</th>\n",
       "      <td>RTK</td>\n",
       "      <td>Ashford And St Peter's Hospitals NHS Foundatio...</td>\n",
       "      <td>48978</td>\n",
       "      <td>50609</td>\n",
       "      <td>3</td>\n",
       "      <td>99590</td>\n",
       "    </tr>\n",
       "    <tr>\n",
       "      <th>11</th>\n",
       "      <td>NQT10</td>\n",
       "      <td>Assura Reading LLP</td>\n",
       "      <td>17046</td>\n",
       "      <td>22565</td>\n",
       "      <td>86</td>\n",
       "      <td>39697</td>\n",
       "    </tr>\n",
       "  </tbody>\n",
       "</table>\n",
       "</div>"
      ],
      "text/plain": [
       "     code                                      provider_desc   male female  \\\n",
       "7     REM   Aintree University Hospital NHS Foundation Trust  75516  88374   \n",
       "8     RCF                      Airedale NHS Foundation Trust  27921  28899   \n",
       "9     RBS          Alder Hey Children's NHS Foundation Trust  31764  26486   \n",
       "10    RTK  Ashford And St Peter's Hospitals NHS Foundatio...  48978  50609   \n",
       "11  NQT10                                 Assura Reading LLP  17046  22565   \n",
       "\n",
       "   unkown   total  \n",
       "7       7  163897  \n",
       "8      39   56859  \n",
       "9       1   58251  \n",
       "10      3   99590  \n",
       "11     86   39697  "
      ]
     },
     "execution_count": 83,
     "metadata": {},
     "output_type": "execute_result"
    }
   ],
   "source": [
    "AE_by_gender = AE_by_gender[~AE_by_gender[\"code\"].isin([\"All\", \"Y54\", \"Y55\", \"Y56\", \"Y57\"])]\n",
    "AE_by_gender.head()"
   ]
  },
  {
   "cell_type": "markdown",
   "metadata": {},
   "source": [
    "Upivot data"
   ]
  },
  {
   "cell_type": "code",
   "execution_count": null,
   "metadata": {},
   "outputs": [],
   "source": []
  },
  {
   "cell_type": "code",
   "execution_count": null,
   "metadata": {},
   "outputs": [],
   "source": []
  },
  {
   "cell_type": "code",
   "execution_count": null,
   "metadata": {},
   "outputs": [],
   "source": []
  },
  {
   "cell_type": "code",
   "execution_count": null,
   "metadata": {},
   "outputs": [],
   "source": []
  }
 ],
 "metadata": {
  "kernelspec": {
   "display_name": "Python 3",
   "language": "python",
   "name": "python3"
  },
  "language_info": {
   "codemirror_mode": {
    "name": "ipython",
    "version": 3
   },
   "file_extension": ".py",
   "mimetype": "text/x-python",
   "name": "python",
   "nbconvert_exporter": "python",
   "pygments_lexer": "ipython3",
   "version": "3.6.1"
  }
 },
 "nbformat": 4,
 "nbformat_minor": 2
}
