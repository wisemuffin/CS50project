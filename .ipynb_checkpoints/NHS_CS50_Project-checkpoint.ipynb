{
 "cells": [
  {
   "cell_type": "markdown",
   "metadata": {},
   "source": [
    "# NHS CS50 Project\n",
    "Author: David Griffiths"
   ]
  },
  {
   "cell_type": "markdown",
   "metadata": {},
   "source": [
    "## Problem Statement\n",
    "The reporting from the NHS digital team is in depth but these publications doesnt seem to be interactive and dont allow the general public to explore the data.\n",
    "\n",
    "Aim to add the following functionality by using several libraries in Python:\n",
    "* Interactive charting with the use of plotly\n",
    "* Filters to slice and dice the data\n",
    "* Autocomplete for text filters"
   ]
  },
  {
   "cell_type": "markdown",
   "metadata": {},
   "source": [
    "## NHS Analysis\n",
    "* Outpatient Activity\n",
    "* 111 Program\n",
    "* workforce\n",
    "\n",
    "## Notebooks\n",
    "* Jupyter Notebooks are an excelent way for others to reproduce my anaylsis\n",
    "* http://nbviewer.jupyter.org/github/wisemuffin/Jupyter-Notebooks-Learning/blob/master/myCS50project/NHS_111_Programme.ipynb"
   ]
  },
  {
   "cell_type": "markdown",
   "metadata": {},
   "source": [
    "# Microsoft Azure Notebooks\n",
    "All of these notebooks are also hosted on Microsoft Azure Notebooks (a preview service offered by Microsoft which allows you to run all of the notebooks contents on a remotely provisioned Azure server).\n",
    "\n",
    "This setup is recommended for most users -- you won't need to install anything to load these notebooks or to run these commands (though that will take a little more than just opening the files). Thanks,Microsoft!\n",
    "\n",
    "As I said above, to read these notes, just open the link above and click on the lecture notes. To run one of these notebooks, you will need to create a Microsoft Azure account (we will likely create one of these later anyway, so now is a fine time). once you have created an account and signed in, you should be able to clone any one of these items using the \"Clone\" button (right above the \"Search\" bar). this will create a copy in your own personal Microsoft Azure library and will build a server and environment for you any time you launch it."
   ]
  },
  {
   "cell_type": "markdown",
   "metadata": {},
   "source": [
    "# To do"
   ]
  },
  {
   "cell_type": "markdown",
   "metadata": {},
   "source": [
    "* widgets in nbviwer\n",
    "* RESEARCH THIS MORE\n",
    "https://plot.ly/python/reference/#layout-updatemenus\n",
    "* maybe dash\n",
    "* hoast plotly graphs on website\n",
    "* host jupyter notebooks (so they can be run) via https://notebooks.azure.com/anon-frh6sa/libraries/myCS50project"
   ]
  },
  {
   "cell_type": "markdown",
   "metadata": {},
   "source": [
    "https://digital.nhs.uk/Our-workforce-demographics"
   ]
  },
  {
   "cell_type": "markdown",
   "metadata": {},
   "source": [
    "\n",
    "* printenv\n",
    "* conda env list\n",
    "\n",
    "## To use conda in azure\n",
    "* export PATH=~/anaconda3_501/bin:$PATH\n",
    "* conda --version\n",
    "* https://conda.io/docs/user-guide/tasks/manage-environments.html\n",
    "\n",
    "## Setting up Jupyer Extentions tab\n",
    "* conda install -c conda-forge jupyter_contrib_nbextensions\n",
    "* jupyter nbextension enable --py --sys-prefix widgetsnbextension\n",
    "\n",
    "## setting up enviroments on azure\n",
    "* export PATH=~/anaconda3_501/bin:$PATH\n",
    "* conda create --name daves_home_env --file ~/library/daves_home_env.txt\n",
    "* or conda env create -f environment.yml\n",
    "\n",
    "https://conda.io/docs/user-guide/tasks/manage-environments.html\n",
    "\n",
    "## set up anaconda extentions\n",
    "* conda install anaconda-nb-extensions -c anaconda-nb-extensions"
   ]
  },
  {
   "cell_type": "code",
   "execution_count": null,
   "metadata": {},
   "outputs": [],
   "source": []
  }
 ],
 "metadata": {
  "kernelspec": {
   "display_name": "Python [default]",
   "language": "python",
   "name": "python3"
  },
  "language_info": {
   "codemirror_mode": {
    "name": "ipython",
    "version": 3
   },
   "file_extension": ".py",
   "mimetype": "text/x-python",
   "name": "python",
   "nbconvert_exporter": "python",
   "pygments_lexer": "ipython3",
   "version": "3.6.1"
  },
  "toc": {
   "nav_menu": {},
   "number_sections": true,
   "sideBar": true,
   "skip_h1_title": false,
   "title_cell": "Table of Contents",
   "title_sidebar": "Contents",
   "toc_cell": false,
   "toc_position": {},
   "toc_section_display": true,
   "toc_window_display": true
  }
 },
 "nbformat": 4,
 "nbformat_minor": 2
}
