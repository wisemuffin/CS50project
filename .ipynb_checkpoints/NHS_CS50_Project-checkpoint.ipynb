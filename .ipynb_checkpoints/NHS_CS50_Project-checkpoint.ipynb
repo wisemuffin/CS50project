{
 "cells": [
  {
   "cell_type": "markdown",
   "metadata": {},
   "source": [
    "# NHS CS50 Project\n",
    "Author: David Griffiths"
   ]
  },
  {
   "cell_type": "markdown",
   "metadata": {},
   "source": [
    "## Problem Statement\n",
    "The reporting from the NHS digital team is in depth but these publications doesnt seem to be interactive and dont allow the general public to explore the data.\n",
    "\n",
    "Aim to add the following functionality by using several libraries in Python:\n",
    "* Interactive charting with the use of plotly\n",
    "* Filters to slice and dice the data\n",
    "* Autocomplete for text filters"
   ]
  },
  {
   "cell_type": "markdown",
   "metadata": {},
   "source": [
    "## NHS Analysis\n",
    "* Outpatient Activity\n",
    "* 111 Program\n",
    "* workforce\n",
    "\n",
    "## Notebooks\n",
    "* Jupyter Notebooks are an excelent way for others to reproduce my anaylsis\n",
    "* http://nbviewer.jupyter.org/github/wisemuffin/Jupyter-Notebooks-Learning/blob/master/myCS50project/NHS_111_Programme.ipynb"
   ]
  },
  {
   "cell_type": "markdown",
   "metadata": {},
   "source": [
    "# To do"
   ]
  },
  {
   "cell_type": "markdown",
   "metadata": {},
   "source": [
    "* widgets in nbviwer\n",
    "* RESEARCH THIS MORE\n",
    "https://plot.ly/python/reference/#layout-updatemenus\n",
    "* maybe dash\n",
    "* hoast plotly graphs on website\n",
    "* host jupyter notebooks (so they can be run) via https://notebooks.azure.com/anon-frh6sa/libraries/myCS50project"
   ]
  },
  {
   "cell_type": "markdown",
   "metadata": {},
   "source": [
    "https://digital.nhs.uk/Our-workforce-demographics"
   ]
  },
  {
   "cell_type": "code",
   "execution_count": null,
   "metadata": {},
   "outputs": [],
   "source": []
  }
 ],
 "metadata": {
  "kernelspec": {
   "display_name": "Python 3",
   "language": "python",
   "name": "python3"
  },
  "language_info": {
   "codemirror_mode": {
    "name": "ipython",
    "version": 3
   },
   "file_extension": ".py",
   "mimetype": "text/x-python",
   "name": "python",
   "nbconvert_exporter": "python",
   "pygments_lexer": "ipython3",
   "version": "3.6.1"
  }
 },
 "nbformat": 4,
 "nbformat_minor": 2
}
